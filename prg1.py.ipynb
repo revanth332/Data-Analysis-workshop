{
 "cells": [
  {
   "cell_type": "code",
   "execution_count": 2,
   "metadata": {},
   "outputs": [
    {
     "name": "stdout",
     "output_type": "stream",
     "text": [
      "enter the month number\n",
      "2\n",
      "28 days\n"
     ]
    }
   ],
   "source": [
    "print('enter the month number')\n",
    "big=[1,3,5,7,8,10,12]\n",
    "small=[4,6,9,11]\n",
    "month=int(input())\n",
    "if month in big:\n",
    "    print(31,'days')\n",
    "elif month in small:\n",
    "    print(30,'days')\n",
    "else:\n",
    "    print(28,'days')\n"
   ]
  },
  {
   "cell_type": "code",
   "execution_count": null,
   "metadata": {
    "scrolled": false
   },
   "outputs": [],
   "source": [
    "import calendar\n",
    "y=int(input('enter a month '))\n",
    "m=int(input('enter a year '))\n",
    "print(calendar.month(m,y)) if y>1800 and y<2099 else 'not available'\n",
    "    "
   ]
  },
  {
   "cell_type": "code",
   "execution_count": 4,
   "metadata": {},
   "outputs": [
    {
     "name": "stdout",
     "output_type": "stream",
     "text": [
      "5637\n",
      "2000 2\n",
      "500 3\n",
      "100 1\n",
      "20 1\n",
      "2 8\n",
      "1 1\n"
     ]
    }
   ],
   "source": [
    "denoms=[2000,500,200,100,50,20,2,1]\n",
    "amount=int(input())\n",
    "d={}\n",
    "for denom in denoms:\n",
    "    rem=amount//denom\n",
    "    d[denom]=rem\n",
    "    amount=amount%denom\n",
    "for denom in d:\n",
    "    if d[denom] != 0: print(denom,d[denom])"
   ]
  },
  {
   "cell_type": "code",
   "execution_count": 14,
   "metadata": {},
   "outputs": [
    {
     "name": "stdout",
     "output_type": "stream",
     "text": [
      "Enter the string: banana\n",
      "Enter the word to search: ana\n",
      "ana repeated 2 times in banana\n"
     ]
    }
   ],
   "source": [
    "#programme to fint frequency of the word\n",
    "s=input('Enter the string: ')\n",
    "w=input('Enter the word to search: ')\n",
    "count=0\n",
    "wl=len(w)\n",
    "for i in range(len(s)-len(w)+1):\n",
    "    if w == s[i:wl]:\n",
    "        count+=1\n",
    "    wl+=1\n",
    "print(w,'repeated',count,'times in',s)"
   ]
  },
  {
   "cell_type": "code",
   "execution_count": 13,
   "metadata": {},
   "outputs": [
    {
     "name": "stdout",
     "output_type": "stream",
     "text": [
      "90\n",
      "1)fahr-celcius\n",
      "2)celcius-fahr\n",
      "Enter your option: 2\n",
      "temparature in celcius: 32.22 u°F\n"
     ]
    }
   ],
   "source": [
    "#temparature converter\n",
    "def fahr(t):\n",
    "    c=round(((t-32)*5)/9,2)\n",
    "    return c\n",
    "def celc(t):\n",
    "    f=round(((9*t)/5)+32,2)\n",
    "    return f\n",
    "temp=float(input())\n",
    "print(\"1)fahr-celcius\")\n",
    "print(\"2)celcius-fahr\")\n",
    "option=int(input(\"Enter your option: \"))\n",
    "if option == 1:\n",
    "    print('temparature in celcius:',celc(temp),'\\N{DEGREE SIGN}C')\n",
    "else:\n",
    "    print('temparature in celcius:',fahr(temp),'\\N{DEGREE SIGN}F')"
   ]
  },
  {
   "cell_type": "code",
   "execution_count": 9,
   "metadata": {},
   "outputs": [
    {
     "name": "stdout",
     "output_type": "stream",
     "text": [
      "oops: 90\n",
      "dbms: 89\n",
      "flat: 70\n",
      "cs: 90\n",
      "sllb: 89\n",
      "cslb: 90\n",
      "dblb: 89\n",
      "coa: 99\n",
      "ooplb: 89\n",
      "CGPA: 9.35\n"
     ]
    }
   ],
   "source": [
    "def grade(mark):\n",
    "    return (mark//10)+1;\n",
    "subjects=[\"oops\",\"dbms\",\"flat\",\"cs\",\"sllb\",\"cslb\",\"dblb\",\"coa\",\"ooplb\"]\n",
    "marks={}\n",
    "for subject in subjects:\n",
    "    marks[subject]=int(input(subject+\": \"))\n",
    "credits={\"oops\":3,\"dbms\":3,\"flat\":3,\"cs\":3,\"sllb\":2,\"cslb\":1.5,\"dblb\":1.5,\"coa\":3,\"ooplb\":1.5}\n",
    "tgrade=0\n",
    "for subject in marks:\n",
    "    tgrade+=(grade(marks[subject])*credits[subject])\n",
    "cgpa=round((tgrade/21.5),2)\n",
    "print(\"CGPA:\",cgpa)"
   ]
  },
  {
   "cell_type": "code",
   "execution_count": 1,
   "metadata": {},
   "outputs": [
    {
     "name": "stdout",
     "output_type": "stream",
     "text": [
      "enter the size: 2\n",
      "1\n",
      "2\n",
      "3\n",
      "4\n",
      "1\n",
      "2\n",
      "3\n",
      "4\n"
     ]
    },
    {
     "ename": "TypeError",
     "evalue": "unsupported operand type(s) for +=: 'int' and 'list'",
     "output_type": "error",
     "traceback": [
      "\u001b[1;31m---------------------------------------------------------------------------\u001b[0m",
      "\u001b[1;31mTypeError\u001b[0m                                 Traceback (most recent call last)",
      "\u001b[1;32m<ipython-input-1-1d8de92bee65>\u001b[0m in \u001b[0;36m<module>\u001b[1;34m\u001b[0m\n\u001b[0;32m     17\u001b[0m         \u001b[0mx\u001b[0m\u001b[1;33m.\u001b[0m\u001b[0mappend\u001b[0m\u001b[1;33m(\u001b[0m\u001b[0mint\u001b[0m\u001b[1;33m(\u001b[0m\u001b[0minput\u001b[0m\u001b[1;33m(\u001b[0m\u001b[1;33m)\u001b[0m\u001b[1;33m)\u001b[0m\u001b[1;33m)\u001b[0m\u001b[1;33m\u001b[0m\u001b[1;33m\u001b[0m\u001b[0m\n\u001b[0;32m     18\u001b[0m     \u001b[0ma\u001b[0m\u001b[1;33m.\u001b[0m\u001b[0mappend\u001b[0m\u001b[1;33m(\u001b[0m\u001b[0mx\u001b[0m\u001b[1;33m)\u001b[0m\u001b[1;33m\u001b[0m\u001b[1;33m\u001b[0m\u001b[0m\n\u001b[1;32m---> 19\u001b[1;33m \u001b[0mprint\u001b[0m\u001b[1;33m(\u001b[0m\u001b[0madd\u001b[0m\u001b[1;33m(\u001b[0m\u001b[0ma\u001b[0m\u001b[1;33m,\u001b[0m\u001b[0mb\u001b[0m\u001b[1;33m)\u001b[0m\u001b[1;33m)\u001b[0m\u001b[1;33m\u001b[0m\u001b[1;33m\u001b[0m\u001b[0m\n\u001b[0m\u001b[0;32m     20\u001b[0m \u001b[1;33m\u001b[0m\u001b[0m\n",
      "\u001b[1;32m<ipython-input-1-1d8de92bee65>\u001b[0m in \u001b[0;36madd\u001b[1;34m(a, b)\u001b[0m\n\u001b[0;32m      2\u001b[0m     \u001b[0msum\u001b[0m\u001b[1;33m=\u001b[0m\u001b[1;36m0\u001b[0m\u001b[1;33m\u001b[0m\u001b[1;33m\u001b[0m\u001b[0m\n\u001b[0;32m      3\u001b[0m     \u001b[1;32mfor\u001b[0m \u001b[0mnum\u001b[0m \u001b[1;32min\u001b[0m \u001b[0ma\u001b[0m\u001b[1;33m:\u001b[0m\u001b[1;33m\u001b[0m\u001b[1;33m\u001b[0m\u001b[0m\n\u001b[1;32m----> 4\u001b[1;33m         \u001b[0msum\u001b[0m\u001b[1;33m+=\u001b[0m\u001b[0mnum\u001b[0m\u001b[1;33m\u001b[0m\u001b[1;33m\u001b[0m\u001b[0m\n\u001b[0m\u001b[0;32m      5\u001b[0m     \u001b[1;32mreturn\u001b[0m \u001b[0msum\u001b[0m\u001b[1;33m\u001b[0m\u001b[1;33m\u001b[0m\u001b[0m\n\u001b[0;32m      6\u001b[0m \u001b[0ma\u001b[0m\u001b[1;33m=\u001b[0m\u001b[1;33m[\u001b[0m\u001b[1;33m]\u001b[0m\u001b[1;33m\u001b[0m\u001b[1;33m\u001b[0m\u001b[0m\n",
      "\u001b[1;31mTypeError\u001b[0m: unsupported operand type(s) for +=: 'int' and 'list'"
     ]
    }
   ],
   "source": [
    "\n",
    "def add(a,b):\n",
    "    \n",
    "a=[]\n",
    "b=[]\n",
    "n=int(input(\"enter the size: \"))\n",
    "for i in range(n):\n",
    "    x=[]\n",
    "    for j in range(n):\n",
    "        x.append(int(input()))\n",
    "    a.append(x)\n",
    "for i in range(n):\n",
    "    x=[]\n",
    "    for j in range(n):\n",
    "        x.append(int(input()))\n",
    "    a.append(x)\n",
    "print(add(a,b))\n",
    "        "
   ]
  },
  {
   "cell_type": "markdown",
   "metadata": {},
   "source": [
    "## "
   ]
  }
 ],
 "metadata": {
  "kernelspec": {
   "display_name": "Python 3",
   "language": "python",
   "name": "python3"
  },
  "language_info": {
   "codemirror_mode": {
    "name": "ipython",
    "version": 3
   },
   "file_extension": ".py",
   "mimetype": "text/x-python",
   "name": "python",
   "nbconvert_exporter": "python",
   "pygments_lexer": "ipython3",
   "version": "3.8.5"
  }
 },
 "nbformat": 4,
 "nbformat_minor": 4
}
