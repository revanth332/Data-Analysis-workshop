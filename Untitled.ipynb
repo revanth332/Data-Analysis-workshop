{
 "cells": [
  {
   "cell_type": "markdown",
   "metadata": {},
   "source": [
    "### coin exchange problem"
   ]
  },
  {
   "cell_type": "code",
   "execution_count": 21,
   "metadata": {},
   "outputs": [
    {
     "name": "stdout",
     "output_type": "stream",
     "text": [
      "3456\n",
      "rs2000 1 2000\n",
      "rs500 2 1000\n",
      "rs200 2 400\n",
      "rs100 0 0\n",
      "rs50 1 50\n",
      "rs20 0 0\n",
      "rs10 0 0\n",
      "rs1 6 6\n"
     ]
    }
   ],
   "source": [
    "amount=int(input())\n",
    "rs2000=rs500=rs200=rs100=rs50=rs20=rs10=rs1=0\n",
    "if amount >= 2000:\n",
    "    rs2000=amount//2000\n",
    "    amount=amount%2000\n",
    "if amount >= 500:\n",
    "    rs500=amount//500\n",
    "    amount=amount%500\n",
    "if amount >= 200:\n",
    "    rs200=amount//200\n",
    "    amount=amount%200\n",
    "if amount >= 100:\n",
    "    rs100=amount//100\n",
    "    amount=amount%100\n",
    "if amount >= 50:\n",
    "    rs50=amount//50\n",
    "    amount=amount%50\n",
    "if amount >= 20:\n",
    "    rs20=amount//20\n",
    "    amount=amount%20\n",
    "if amount >= 10:\n",
    "    rs10=amount//10\n",
    "    amount=amount%10\n",
    "if amount >= 1:\n",
    "    rs1=amount\n",
    "print('rs2000',rs2000,rs2000*2000)\n",
    "print('rs500',rs500,rs500*500)\n",
    "print('rs200',rs200,rs200*200)\n",
    "print('rs100',rs100,rs100*100)\n",
    "print('rs50',rs50,rs50*50)\n",
    "print('rs20',rs20,rs20*20)\n",
    "print('rs10',rs10,rs10*10)\n",
    "print('rs1',rs1,rs1)"
   ]
  },
  {
   "cell_type": "code",
   "execution_count": 6,
   "metadata": {},
   "outputs": [
    {
     "name": "stdout",
     "output_type": "stream",
     "text": [
      "Enter the month number\n",
      "4\n",
      "30 days\n"
     ]
    }
   ],
   "source": [
    "#programme o find the number of days in a month\n",
    "print('Enter the month number')\n",
    "big=[1,3,5,7,8,10,12]\n",
    "small=[4,6,9,11]\n",
    "month=int(input())\n",
    "if month in big:\n",
    "  print(31,'days')\n",
    "elif month in small:\n",
    "  print(30,'days')\n",
    "else: print(28,'days')"
   ]
  },
  {
   "cell_type": "code",
   "execution_count": 24,
   "metadata": {},
   "outputs": [
    {
     "name": "stdout",
     "output_type": "stream",
     "text": [
      "Enter the year: 1987\n",
      "Enter the month: 5\n",
      "      May 1987\n",
      "Mo Tu We Th Fr Sa Su\n",
      "             1  2  3\n",
      " 4  5  6  7  8  9 10\n",
      "11 12 13 14 15 16 17\n",
      "18 19 20 21 22 23 24\n",
      "25 26 27 28 29 30 31\n",
      "\n"
     ]
    }
   ],
   "source": [
    "#program to print the calender in a specific year and month\n",
    "import calendar\n",
    "y=int(input('Enter the year: '))\n",
    "m=int(input('Enter the month: '))\n",
    "print(calendar.month(y,m)) if y>1800 and y<2900 else 'Not Avalable!'"
   ]
  },
  {
   "cell_type": "code",
   "execution_count": 28,
   "metadata": {},
   "outputs": [
    {
     "name": "stdout",
     "output_type": "stream",
     "text": [
      "Enter yor password: hacker@32\n",
      "encrypted password is mfhpjwE87\n",
      "decrypted password is hacker@32\n"
     ]
    }
   ],
   "source": [
    "#program to encrypt/decrypt the password\n",
    "def encrypt(s):\n",
    "    encrypt_pwd=''\n",
    "    for ch in s:\n",
    "        encrypt_pwd+=chr(ord(ch)+5)\n",
    "    return encrypt_pwd\n",
    "def decrypt(s):\n",
    "    decrypt_pwd=''\n",
    "    for ch in s:\n",
    "        decrypt_pwd+=chr(ord(ch)-5)\n",
    "    return decrypt_pwd\n",
    "\n",
    "pwd=input('Enter yor password: ')\n",
    "print('encrypted password is',encrypt(pwd))\n",
    "print('decrypted password is',decrypt(encrypt(pwd)))"
   ]
  },
  {
   "cell_type": "code",
   "execution_count": 9,
   "metadata": {},
   "outputs": [
    {
     "name": "stdout",
     "output_type": "stream",
     "text": [
      "Enter the string: banana\n",
      "Enter the word to search: ana\n",
      "ana repeated 2 times in banana\n"
     ]
    }
   ],
   "source": [
    "#programme to find frequency of the word\n",
    "s=input('Enter the string: ')\n",
    "w=input('Enter the word to search: ')\n",
    "count=0\n",
    "wl=len(w)\n",
    "for i in range(len(s)-len(w)+1):\n",
    "    if w == s[i:wl]:\n",
    "        count+=1\n",
    "    wl+=1\n",
    "print(w,'repeated',count,'times in',s)"
   ]
  },
  {
   "cell_type": "code",
   "execution_count": 15,
   "metadata": {},
   "outputs": [
    {
     "name": "stdout",
     "output_type": "stream",
     "text": [
      "67\n",
      "temparature in celcius: 152.6 °C\n",
      "temparature in celcius: 19.44 °F\n"
     ]
    }
   ],
   "source": [
    "#temparature converter\n",
    "def fahr(t):\n",
    "    c=round(((t-32)*5)/9,2)\n",
    "    return c\n",
    "def celc(t):\n",
    "    f=round(((9*t)/5)+32,2)\n",
    "    return f\n",
    "temp=float(input())\n",
    "print('temparature in celcius:',celc(temp),'\\N{DEGREE SIGN}C')\n",
    "print('temparature in celcius:',fahr(temp),'\\N{DEGREE SIGN}F')\n"
   ]
  },
  {
   "cell_type": "code",
   "execution_count": 31,
   "metadata": {},
   "outputs": [
    {
     "name": "stdout",
     "output_type": "stream",
     "text": [
      "Enter your individual subject scores:\n",
      "Computational Statistics:1\n",
      "computer organisation:2\n",
      "Object oriented Programming:3\n",
      "Automata Theory:4\n",
      "Database System:5\n",
      "Statistics Lab:5\n",
      "OOPs Lab:4\n",
      "DBMS Lab:3\n",
      "SL Lab:2\n",
      "1\n"
     ]
    }
   ],
   "source": [
    "def grade(score):\n",
    "    if score>=90: return 10\n",
    "    elif score>=80: return 9\n",
    "    elif score>=70: return 8\n",
    "    elif score>=60: return 7\n",
    "    elif score>=50: return 6\n",
    "    elif score>=40: return 5\n",
    "    elif score>=30: return 4\n",
    "    elif score>=20: return 3\n",
    "    elif score>=10: return 2\n",
    "    elif score>=0: return 1\n",
    "    \n",
    "\n",
    "print('Enter your individual subject scores:')\n",
    "cs=int(input('Computational Statistics:'))\n",
    "coa=int(input('computer organisation:'))\n",
    "oop=int(input('Object oriented Programming:'))\n",
    "flat=int(input('Automata Theory:'))\n",
    "dbms=int(input('Database System:'))\n",
    "cslb=int(input('Statistics Lab:'))\n",
    "ooplb=int(input('OOPs Lab:'))\n",
    "dbslb=int(input('DBMS Lab:'))\n",
    "sllb=int(input('SL Lab:'))\n",
    "credits={'cs':3,'coa':3,'oop':3,'flat':3,'dbms':3,'sllb':1.5,'ooplb':1.5,'dbslb':1.5,'sllb':2}\n",
    "grades={'cs':grade(cs),'coa':grade(coa),'oop':grade(oop),'flat':grade(flat),'dbms':grade(dbms),'sllb':grade(cslb),'ooplb':grade(ooplb),'dbslb':grade(dbslb),'sllb':grade(sllb)}\n",
    "tgrade=0\n",
    "for subject in credits:\n",
    "    tgrade+=credits['cs']*grades['cs']\n",
    "gpa=round(tgrade/21.5)\n",
    "print(gpa)"
   ]
  },
  {
   "cell_type": "markdown",
   "metadata": {},
   "source": [
    "##### "
   ]
  }
 ],
 "metadata": {
  "kernelspec": {
   "display_name": "Python 3",
   "language": "python",
   "name": "python3"
  },
  "language_info": {
   "codemirror_mode": {
    "name": "ipython",
    "version": 3
   },
   "file_extension": ".py",
   "mimetype": "text/x-python",
   "name": "python",
   "nbconvert_exporter": "python",
   "pygments_lexer": "ipython3",
   "version": "3.8.5"
  }
 },
 "nbformat": 4,
 "nbformat_minor": 4
}
